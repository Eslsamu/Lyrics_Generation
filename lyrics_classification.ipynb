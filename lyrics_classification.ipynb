{
  "nbformat": 4,
  "nbformat_minor": 0,
  "metadata": {
    "colab": {
      "name": "lyrics classification",
      "version": "0.3.2",
      "provenance": [],
      "collapsed_sections": []
    },
    "kernelspec": {
      "name": "python3",
      "display_name": "Python 3"
    },
    "accelerator": "GPU"
  },
  "cells": [
    {
      "cell_type": "code",
      "metadata": {
        "id": "4Zy_KLayDh-J",
        "colab_type": "code",
        "outputId": "fb7749ad-afbf-4614-930e-f0092317d2fa",
        "colab": {
          "base_uri": "https://localhost:8080/",
          "height": 158
        }
      },
      "source": [
        "import pandas as pd\n",
        "import os\n",
        "import string\n",
        "import re\n",
        "\n",
        "!pip install keras\n",
        "\n",
        "from keras.utils import np_utils\n",
        "import numpy as np\n",
        "\n",
        "# !git clone https://github.com/davordavidovic/NLP-lyrics-generator.git\n"
      ],
      "execution_count": 220,
      "outputs": [
        {
          "output_type": "stream",
          "text": [
            "Requirement already satisfied: keras in /usr/local/lib/python3.6/dist-packages (2.2.4)\n",
            "Requirement already satisfied: keras-applications>=1.0.6 in /usr/local/lib/python3.6/dist-packages (from keras) (1.0.7)\n",
            "Requirement already satisfied: keras-preprocessing>=1.0.5 in /usr/local/lib/python3.6/dist-packages (from keras) (1.0.9)\n",
            "Requirement already satisfied: pyyaml in /usr/local/lib/python3.6/dist-packages (from keras) (3.13)\n",
            "Requirement already satisfied: h5py in /usr/local/lib/python3.6/dist-packages (from keras) (2.8.0)\n",
            "Requirement already satisfied: six>=1.9.0 in /usr/local/lib/python3.6/dist-packages (from keras) (1.12.0)\n",
            "Requirement already satisfied: scipy>=0.14 in /usr/local/lib/python3.6/dist-packages (from keras) (1.3.0)\n",
            "Requirement already satisfied: numpy>=1.9.1 in /usr/local/lib/python3.6/dist-packages (from keras) (1.16.3)\n"
          ],
          "name": "stdout"
        }
      ]
    },
    {
      "cell_type": "code",
      "metadata": {
        "id": "CkkNUys43zEE",
        "colab_type": "code",
        "colab": {}
      },
      "source": [
        "from keras.datasets import imdb\n",
        "from keras.models import Sequential\n",
        "from keras.layers import Dense\n",
        "from keras.layers import LSTM\n",
        "from keras.layers.embeddings import Embedding\n",
        "from keras.preprocessing import sequence\n",
        "\n",
        "np.random.seed(7)\n",
        "\n",
        "df1 = pd.read_csv('./NLP-lyrics-generator/data/lyrics_part1.csv')\n",
        "df2 = pd.read_csv('./NLP-lyrics-generator/data/lyrics_part2.csv')\n",
        "df3 = pd.read_csv('./NLP-lyrics-generator/data/lyrics_part3.csv')\n",
        "df4 = pd.read_csv('./NLP-lyrics-generator/data/lyrics_part4.csv')\n",
        "df_part_1 = pd.concat([df1, df2])\n",
        "df_part_2 = pd.concat([df3, df4])\n",
        "df = pd.concat([df_part_1, df_part_2])\n",
        "df = df.dropna() #there were around 10000 rows with no lyrics so drop them\n",
        "\n",
        "\n",
        "df['genre'] = df['genre'].replace({'Hip-Hop': 'Rap'})"
      ],
      "execution_count": 0,
      "outputs": []
    },
    {
      "cell_type": "code",
      "metadata": {
        "id": "MpJcjfiCkipQ",
        "colab_type": "code",
        "colab": {
          "base_uri": "https://localhost:8080/",
          "height": 432
        },
        "outputId": "8fde7f01-699f-45fa-80fb-2fbcac52299b"
      },
      "source": [
        "df.groupby('genre').count()"
      ],
      "execution_count": 222,
      "outputs": [
        {
          "output_type": "execute_result",
          "data": {
            "text/html": [
              "<div>\n",
              "<style scoped>\n",
              "    .dataframe tbody tr th:only-of-type {\n",
              "        vertical-align: middle;\n",
              "    }\n",
              "\n",
              "    .dataframe tbody tr th {\n",
              "        vertical-align: top;\n",
              "    }\n",
              "\n",
              "    .dataframe thead th {\n",
              "        text-align: right;\n",
              "    }\n",
              "</style>\n",
              "<table border=\"1\" class=\"dataframe\">\n",
              "  <thead>\n",
              "    <tr style=\"text-align: right;\">\n",
              "      <th></th>\n",
              "      <th>Unnamed: 0</th>\n",
              "      <th>index</th>\n",
              "      <th>song</th>\n",
              "      <th>year</th>\n",
              "      <th>artist</th>\n",
              "      <th>lyrics</th>\n",
              "    </tr>\n",
              "    <tr>\n",
              "      <th>genre</th>\n",
              "      <th></th>\n",
              "      <th></th>\n",
              "      <th></th>\n",
              "      <th></th>\n",
              "      <th></th>\n",
              "      <th></th>\n",
              "    </tr>\n",
              "  </thead>\n",
              "  <tbody>\n",
              "    <tr>\n",
              "      <th>Country</th>\n",
              "      <td>14387</td>\n",
              "      <td>14387</td>\n",
              "      <td>14387</td>\n",
              "      <td>14387</td>\n",
              "      <td>14387</td>\n",
              "      <td>14387</td>\n",
              "    </tr>\n",
              "    <tr>\n",
              "      <th>Electronic</th>\n",
              "      <td>7966</td>\n",
              "      <td>7966</td>\n",
              "      <td>7966</td>\n",
              "      <td>7966</td>\n",
              "      <td>7966</td>\n",
              "      <td>7966</td>\n",
              "    </tr>\n",
              "    <tr>\n",
              "      <th>Folk</th>\n",
              "      <td>2243</td>\n",
              "      <td>2243</td>\n",
              "      <td>2243</td>\n",
              "      <td>2243</td>\n",
              "      <td>2243</td>\n",
              "      <td>2243</td>\n",
              "    </tr>\n",
              "    <tr>\n",
              "      <th>Indie</th>\n",
              "      <td>3149</td>\n",
              "      <td>3149</td>\n",
              "      <td>3149</td>\n",
              "      <td>3149</td>\n",
              "      <td>3149</td>\n",
              "      <td>3149</td>\n",
              "    </tr>\n",
              "    <tr>\n",
              "      <th>Jazz</th>\n",
              "      <td>7970</td>\n",
              "      <td>7970</td>\n",
              "      <td>7970</td>\n",
              "      <td>7970</td>\n",
              "      <td>7970</td>\n",
              "      <td>7970</td>\n",
              "    </tr>\n",
              "    <tr>\n",
              "      <th>Metal</th>\n",
              "      <td>23759</td>\n",
              "      <td>23759</td>\n",
              "      <td>23759</td>\n",
              "      <td>23759</td>\n",
              "      <td>23759</td>\n",
              "      <td>23759</td>\n",
              "    </tr>\n",
              "    <tr>\n",
              "      <th>Not Available</th>\n",
              "      <td>23941</td>\n",
              "      <td>23941</td>\n",
              "      <td>23941</td>\n",
              "      <td>23941</td>\n",
              "      <td>23941</td>\n",
              "      <td>23941</td>\n",
              "    </tr>\n",
              "    <tr>\n",
              "      <th>Other</th>\n",
              "      <td>5189</td>\n",
              "      <td>5189</td>\n",
              "      <td>5189</td>\n",
              "      <td>5189</td>\n",
              "      <td>5189</td>\n",
              "      <td>5189</td>\n",
              "    </tr>\n",
              "    <tr>\n",
              "      <th>Pop</th>\n",
              "      <td>40466</td>\n",
              "      <td>40466</td>\n",
              "      <td>40466</td>\n",
              "      <td>40466</td>\n",
              "      <td>40466</td>\n",
              "      <td>40466</td>\n",
              "    </tr>\n",
              "    <tr>\n",
              "      <th>R&amp;B</th>\n",
              "      <td>3401</td>\n",
              "      <td>3401</td>\n",
              "      <td>3401</td>\n",
              "      <td>3401</td>\n",
              "      <td>3401</td>\n",
              "      <td>3401</td>\n",
              "    </tr>\n",
              "    <tr>\n",
              "      <th>Rap</th>\n",
              "      <td>24850</td>\n",
              "      <td>24850</td>\n",
              "      <td>24850</td>\n",
              "      <td>24850</td>\n",
              "      <td>24850</td>\n",
              "      <td>24850</td>\n",
              "    </tr>\n",
              "    <tr>\n",
              "      <th>Rock</th>\n",
              "      <td>109235</td>\n",
              "      <td>109235</td>\n",
              "      <td>109235</td>\n",
              "      <td>109235</td>\n",
              "      <td>109235</td>\n",
              "      <td>109235</td>\n",
              "    </tr>\n",
              "  </tbody>\n",
              "</table>\n",
              "</div>"
            ],
            "text/plain": [
              "               Unnamed: 0   index    song    year  artist  lyrics\n",
              "genre                                                            \n",
              "Country             14387   14387   14387   14387   14387   14387\n",
              "Electronic           7966    7966    7966    7966    7966    7966\n",
              "Folk                 2243    2243    2243    2243    2243    2243\n",
              "Indie                3149    3149    3149    3149    3149    3149\n",
              "Jazz                 7970    7970    7970    7970    7970    7970\n",
              "Metal               23759   23759   23759   23759   23759   23759\n",
              "Not Available       23941   23941   23941   23941   23941   23941\n",
              "Other                5189    5189    5189    5189    5189    5189\n",
              "Pop                 40466   40466   40466   40466   40466   40466\n",
              "R&B                  3401    3401    3401    3401    3401    3401\n",
              "Rap                 24850   24850   24850   24850   24850   24850\n",
              "Rock               109235  109235  109235  109235  109235  109235"
            ]
          },
          "metadata": {
            "tags": []
          },
          "execution_count": 222
        }
      ]
    },
    {
      "cell_type": "code",
      "metadata": {
        "id": "tB16AFqNDpX1",
        "colab_type": "code",
        "colab": {}
      },
      "source": [
        "words_to_remove = set(['horns', 'chorus', 'verse', 'bridge','instrumental'])\n",
        "def prepare_text(text):\n",
        "  text = text.lower()\n",
        "  text = text.replace('\\n', ' ')\n",
        "  text = text.split()\n",
        "  \n",
        "  \n",
        "  for index, word in enumerate(text):\n",
        "    word = word.strip(string.punctuation)\n",
        "    #remove words still containing non alphabetic chars \n",
        "    word = re.sub(\"[^\\x00-\\x7F]+\",' ', word)\n",
        "    word = re.sub(\"[\\W]\", ' ', word)\n",
        "    word = re.sub(\"\\d+\", ' ', word)\n",
        "\n",
        "    text[index] = word\n",
        "  \n",
        "  text = [x for x in text if x not in words_to_remove]\n",
        "  \n",
        "  text = \" \".join(text)\n",
        "  return text\n",
        "   "
      ],
      "execution_count": 0,
      "outputs": []
    },
    {
      "cell_type": "code",
      "metadata": {
        "id": "0hrNplRrDlct",
        "colab_type": "code",
        "colab": {}
      },
      "source": [
        "from sklearn.feature_extraction.text import CountVectorizer\n",
        "from collections import OrderedDict\n",
        "from keras.utils import np_utils\n",
        "\n",
        "\n",
        "def index2sen(seq,vocab):\n",
        "    tokens = [vocab[int(t)] for t in seq]\n",
        "    sen = \" \".join(tokens)\n",
        "    return sen\n",
        "\n",
        "def build_vocab(songs, min_frq):\n",
        "\n",
        "  vectorizer = CountVectorizer(stop_words=[],min_df=min_frq)\n",
        "  X = vectorizer.fit_transform(songs)\n",
        "\n",
        "\n",
        "  vocab_dict = vectorizer.vocabulary_\n",
        "  vocab_list =  list(vocab_dict)\n",
        "\n",
        "  return vocab_dict\n",
        "\n",
        "\n",
        "\n",
        "\n",
        "def load_songs_and_genres(genres, num_songs):\n",
        "  \n",
        "  df_songs = df[df['genre'].isin(genres)]\n",
        "  \n",
        "  try:\n",
        "    df_sampled = df_songs[df_songs['genre']==genres[0]].sample(n=num_songs)\n",
        "  except:\n",
        "    df_sampled = df_songs[df_songs['genre']==genres[0]]\n",
        "    \n",
        "  for genre in genres[1:]:\n",
        "    try:\n",
        "      df_sampled = pd.concat([df_songs[df_songs['genre']==genre].sample(n=num_songs), df_sampled])\n",
        "    except:\n",
        "      df_sampled = pd.concat([df_songs[df_songs['genre']==genre], df_sampled])\n",
        "\n",
        "  df_sampled = df_sampled.sample(frac=1).reset_index(drop=True)\n",
        "  \n",
        "  songs = df_sampled['lyrics'].map(prepare_text)\n",
        "  genres = df_sampled['genre']\n",
        "  return songs.values, genres.values\n",
        "\n",
        "\n",
        "\n",
        "def songs_to_supervised(songs, genres):\n",
        "  data_x = []\n",
        "  data_y = []\n",
        "\n",
        "  for i, song in enumerate(songs):\n",
        "      words = song.split()\n",
        "      sequence = []\n",
        "      for word in words:\n",
        "\n",
        "        if word in words_int:\n",
        "          sequence.append(words_int[word])\n",
        "          \n",
        "\n",
        "      if len(sequence) > 5:\n",
        "        data_x.append(sequence)\n",
        "        data_y.append(genre_int[genres[i].lower()])\n",
        "\n",
        "              \n",
        "          \n",
        "  return np.array(data_x), np.array(data_y)\n",
        "  \n"
      ],
      "execution_count": 0,
      "outputs": []
    },
    {
      "cell_type": "code",
      "metadata": {
        "id": "BORBrRyN1Wmm",
        "colab_type": "code",
        "colab": {}
      },
      "source": [
        "genres_list = ['Rap','Pop', 'Country', 'Rock', 'Jazz']"
      ],
      "execution_count": 0,
      "outputs": []
    },
    {
      "cell_type": "code",
      "metadata": {
        "id": "OXpvm33GKdr7",
        "colab_type": "code",
        "colab": {}
      },
      "source": [
        "\n",
        "\n",
        "songs, genres = load_songs_and_genres(genres_list, 24000)\n",
        "\n",
        "vocab_dict = build_vocab(songs, min_frq=2)\n",
        "genre_dict = build_vocab(genres, min_frq=1)\n",
        "\n",
        "vocab_len = len(vocab_dict)\n",
        "genre_len = len(genre_dict)\n",
        "\n",
        "set_words = set(list(vocab_dict.keys()))\n",
        "set_genres = set(list(genre_dict.keys()))\n",
        "\n",
        "int_words = dict((i, w) for i, w in enumerate(set_words))\n",
        "words_int = dict((i, w) for w, i in enumerate(set_words))\n",
        "\n",
        "int_genre = dict((i, w) for i, w in enumerate(set_genres))\n",
        "genre_int = dict((i, w) for w, i in enumerate(set_genres))\n"
      ],
      "execution_count": 0,
      "outputs": []
    },
    {
      "cell_type": "code",
      "metadata": {
        "id": "8eRIhrNIYlCY",
        "colab_type": "code",
        "colab": {
          "base_uri": "https://localhost:8080/",
          "height": 52
        },
        "outputId": "0040f1ce-533c-4df5-c18a-f963333e242e"
      },
      "source": [
        "X, y = songs_to_supervised(songs, genres)\n",
        "\n",
        "from sklearn.model_selection import train_test_split\n",
        "x_train, x_test, y_train, y_test = train_test_split(X, y, test_size=0.2, random_state=7)\n",
        "\n",
        "unique_train, counts_train = np.unique(y_train, return_counts=True)\n",
        "unique_test, counts_test = np.unique(y_test, return_counts=True)\n",
        "\n",
        "unique_train = [int_genre[value] for value in unique_train]\n",
        "unique_test = [int_genre[value] for value in unique_test]\n",
        "\n",
        "\n",
        "print('Train size:', dict(zip(unique_train, counts_train)))\n",
        "print('Test size:', dict(zip(unique_test, counts_test)))\n",
        "\n"
      ],
      "execution_count": 227,
      "outputs": [
        {
          "output_type": "stream",
          "text": [
            "Train size: {'rock': 18848, 'pop': 19026, 'country': 11400, 'rap': 19168, 'jazz': 6199}\n",
            "Test size: {'rock': 4622, 'pop': 4782, 'country': 2913, 'rap': 4724, 'jazz': 1620}\n"
          ],
          "name": "stdout"
        }
      ]
    },
    {
      "cell_type": "code",
      "metadata": {
        "id": "2oVfo0ebUnRx",
        "colab_type": "code",
        "colab": {}
      },
      "source": [
        "#--------naive bayes------------\n",
        "from sklearn.feature_extraction.text import TfidfVectorizer\n",
        "from sklearn.naive_bayes import MultinomialNB\n",
        "from sklearn.pipeline import make_pipeline\n",
        "\n",
        "model = make_pipeline(TfidfVectorizer(), MultinomialNB())\n",
        "x_nb, y_nb = load_songs_and_genres(genres_list, 24000)\n",
        "xnb_train, xnb_test, ynb_train, ynb_test = train_test_split(x_nb, y_nb, test_size=0.2, random_state=7)"
      ],
      "execution_count": 0,
      "outputs": []
    },
    {
      "cell_type": "code",
      "metadata": {
        "id": "WLZGoW0EWAOF",
        "colab_type": "code",
        "colab": {
          "base_uri": "https://localhost:8080/",
          "height": 316
        },
        "outputId": "7e4ac85e-7e52-4856-c24a-6fdc7504c90c"
      },
      "source": [
        "model.fit(xnb_train, ynb_train)"
      ],
      "execution_count": 229,
      "outputs": [
        {
          "output_type": "execute_result",
          "data": {
            "text/plain": [
              "Pipeline(memory=None,\n",
              "         steps=[('tfidfvectorizer',\n",
              "                 TfidfVectorizer(analyzer='word', binary=False,\n",
              "                                 decode_error='strict',\n",
              "                                 dtype=<class 'numpy.float64'>,\n",
              "                                 encoding='utf-8', input='content',\n",
              "                                 lowercase=True, max_df=1.0, max_features=None,\n",
              "                                 min_df=1, ngram_range=(1, 1), norm='l2',\n",
              "                                 preprocessor=None, smooth_idf=True,\n",
              "                                 stop_words=None, strip_accents=None,\n",
              "                                 sublinear_tf=False,\n",
              "                                 token_pattern='(?u)\\\\b\\\\w\\\\w+\\\\b',\n",
              "                                 tokenizer=None, use_idf=True,\n",
              "                                 vocabulary=None)),\n",
              "                ('multinomialnb',\n",
              "                 MultinomialNB(alpha=1.0, class_prior=None, fit_prior=True))],\n",
              "         verbose=False)"
            ]
          },
          "metadata": {
            "tags": []
          },
          "execution_count": 229
        }
      ]
    },
    {
      "cell_type": "code",
      "metadata": {
        "id": "JBrazsWxWXPn",
        "colab_type": "code",
        "colab": {
          "base_uri": "https://localhost:8080/",
          "height": 500
        },
        "outputId": "566f7e0e-c8f2-4ed5-e0ed-1e21c0f84bb5"
      },
      "source": [
        "labels = model.predict(xnb_test)\n",
        "plt.figure(figsize=(12, 8))\n",
        "mat = confusion_matrix(ynb_test, labels)\n",
        "\n",
        "sns.heatmap(mat.T, square=True, annot=True, fmt='d', cbar=False,\n",
        "            xticklabels=genres_list, yticklabels=genres_list)\n",
        "plt.xlabel('true label')\n",
        "plt.ylabel('predicted label');\n",
        "plt.savefig('./confmat_naivebayes.pdf', bbox_inches='tight', format='pdf')"
      ],
      "execution_count": 236,
      "outputs": [
        {
          "output_type": "display_data",
          "data": {
            "image/png": "[encoded data removed]",
            "text/plain": [
              "<Figure size 864x576 with 1 Axes>"
            ]
          },
          "metadata": {
            "tags": []
          }
        }
      ]
    },
    {
      "cell_type": "code",
      "metadata": {
        "id": "R44i493uXPfj",
        "colab_type": "code",
        "colab": {
          "base_uri": "https://localhost:8080/",
          "height": 34
        },
        "outputId": "7fd93e92-db5e-48c9-f424-c9e712cc1ac6"
      },
      "source": [
        "print(\"Number of mislabeled points out of a total %d points : %d\" % (len(xnb_test),(ynb_test != labels).sum()))"
      ],
      "execution_count": 234,
      "outputs": [
        {
          "output_type": "stream",
          "text": [
            "Number of mislabeled points out of a total 18872 points : 9505\n"
          ],
          "name": "stdout"
        }
      ]
    },
    {
      "cell_type": "code",
      "metadata": {
        "id": "tYRNCcVCYGcy",
        "colab_type": "code",
        "colab": {
          "base_uri": "https://localhost:8080/",
          "height": 34
        },
        "outputId": "cb69dfad-1438-40e7-8bc0-5761e02792a4"
      },
      "source": [
        "from sklearn.metrics import accuracy_score\n",
        "\n",
        "accuracy_score(ynb_test, labels)"
      ],
      "execution_count": 239,
      "outputs": [
        {
          "output_type": "execute_result",
          "data": {
            "text/plain": [
              "0.49634378974141585"
            ]
          },
          "metadata": {
            "tags": []
          },
          "execution_count": 239
        }
      ]
    },
    {
      "cell_type": "code",
      "metadata": {
        "id": "WTAeIO5jYiX6",
        "colab_type": "code",
        "colab": {}
      },
      "source": [
        "# truncate and pad input sequences\n",
        "max_song_len = 500\n",
        "x_train = sequence.pad_sequences(x_train, maxlen=max_song_len)\n",
        "x_test = sequence.pad_sequences(x_test, maxlen=max_song_len)\n",
        "\n"
      ],
      "execution_count": 0,
      "outputs": []
    },
    {
      "cell_type": "code",
      "metadata": {
        "id": "IdyU-15015Ft",
        "colab_type": "code",
        "colab": {}
      },
      "source": [
        "from keras.utils import to_categorical\n",
        "\n",
        "def encode(data):\n",
        "  return to_categorical(data)\n",
        "\n",
        "def decode(data):\n",
        "  return np.argmax(data)"
      ],
      "execution_count": 0,
      "outputs": []
    },
    {
      "cell_type": "code",
      "metadata": {
        "id": "PnDnalZI6fBx",
        "colab_type": "code",
        "colab": {}
      },
      "source": [
        "use_embedded = True\n",
        "\n",
        "\n",
        "if not use_embedded:\n",
        "  x_train = np.reshape(x_train, (len(x_train), max_song_len, 1))\n",
        "  x_test = np.reshape(x_test, (len(x_test), max_song_len, 1))\n",
        "  shape_input = x_train[0].shape\n",
        "\n"
      ],
      "execution_count": 0,
      "outputs": []
    },
    {
      "cell_type": "code",
      "metadata": {
        "id": "OKQF0E6WQyOS",
        "colab_type": "code",
        "colab": {
          "base_uri": "https://localhost:8080/",
          "height": 1794
        },
        "outputId": "429c93e3-cf25-423c-fa36-f2c98b765459"
      },
      "source": [
        "from keras.layers import Embedding, LSTM, Dense,Dropout, CuDNNLSTM, Conv1D, MaxPooling1D\n",
        "from keras import metrics\n",
        "\n",
        "embedding_len = 32\n",
        "num_classes = len(genres_list)\n",
        "\n",
        "def create_model(layers, units, binary=True):\n",
        "  #lstm sequence to categoriemodel\n",
        "  model = Sequential()\n",
        "  \n",
        "#   model.add(Conv1D(filters=32, kernel_size=3, padding='same', activation='relu'))\n",
        "#   model.add(MaxPooling1D(pool_size=2))\n",
        "  \n",
        "  if use_embedded:\n",
        "    model.add(Embedding(vocab_len, embedding_len, input_length=max_song_len))\n",
        "  else:\n",
        "    model.add(CuDNNLSTM(units,return_sequences=True,input_shape=shape_input))\n",
        "    model.add(Dropout(0.5))\n",
        "  \n",
        "  for l in range(layers-1):\n",
        "    model.add(CuDNNLSTM(units,return_sequences=True))\n",
        "    model.add(Dropout(0.5))\n",
        "    \n",
        "  model.add(CuDNNLSTM(units))\n",
        "  model.add(Dropout(0.5)) \n",
        "  \n",
        "  if binary:\n",
        "    activ_func = 'sigmoid'\n",
        "    loss_func = 'binary_crossentropy'\n",
        "    output = 1\n",
        "    acc = ['accuracy']\n",
        "  else:\n",
        "    activ_func = 'softmax'\n",
        "    output = num_classes\n",
        "    loss_func = 'categorical_crossentropy'\n",
        "    acc = ['categorical_accuracy']\n",
        "\n",
        "  model.add(Dense(output, activation=activ_func))\n",
        "  model.compile(loss=loss_func, optimizer='rmsprop',metrics=acc)\n",
        "  \n",
        "  return model\n",
        "\n",
        "\n",
        "model = create_model(2, 100, binary=False)\n",
        "history = model.fit(x_train, encode(y_train), validation_data=(x_test, encode(y_test)), epochs=50, batch_size=1024)"
      ],
      "execution_count": 209,
      "outputs": [
        {
          "output_type": "stream",
          "text": [
            "Train on 74629 samples, validate on 18658 samples\n",
            "Epoch 1/50\n",
            "74629/74629 [==============================] - 36s 488us/step - loss: 1.4454 - categorical_accuracy: 0.3664 - val_loss: 1.2475 - val_categorical_accuracy: 0.4511\n",
            "Epoch 2/50\n",
            "74629/74629 [==============================] - 30s 396us/step - loss: 1.2534 - categorical_accuracy: 0.4535 - val_loss: 1.1620 - val_categorical_accuracy: 0.5095\n",
            "Epoch 3/50\n",
            "74629/74629 [==============================] - 29s 389us/step - loss: 1.1582 - categorical_accuracy: 0.5096 - val_loss: 1.1215 - val_categorical_accuracy: 0.5330\n",
            "Epoch 4/50\n",
            "74629/74629 [==============================] - 29s 388us/step - loss: 1.1277 - categorical_accuracy: 0.5467 - val_loss: 1.0929 - val_categorical_accuracy: 0.5593\n",
            "Epoch 5/50\n",
            "74629/74629 [==============================] - 29s 392us/step - loss: 1.0443 - categorical_accuracy: 0.5912 - val_loss: 1.1006 - val_categorical_accuracy: 0.5622\n",
            "Epoch 6/50\n",
            "74629/74629 [==============================] - 29s 390us/step - loss: 0.9950 - categorical_accuracy: 0.6130 - val_loss: 1.0633 - val_categorical_accuracy: 0.5817\n",
            "Epoch 7/50\n",
            "74629/74629 [==============================] - 29s 390us/step - loss: 0.9542 - categorical_accuracy: 0.6378 - val_loss: 1.0741 - val_categorical_accuracy: 0.5695\n",
            "Epoch 8/50\n",
            "74629/74629 [==============================] - 29s 390us/step - loss: 0.9176 - categorical_accuracy: 0.6541 - val_loss: 1.0660 - val_categorical_accuracy: 0.5882\n",
            "Epoch 9/50\n",
            "74629/74629 [==============================] - 29s 390us/step - loss: 0.8918 - categorical_accuracy: 0.6685 - val_loss: 1.2790 - val_categorical_accuracy: 0.5161\n",
            "Epoch 10/50\n",
            "74629/74629 [==============================] - 29s 390us/step - loss: 0.9099 - categorical_accuracy: 0.6672 - val_loss: 1.0617 - val_categorical_accuracy: 0.5959\n",
            "Epoch 11/50\n",
            "74629/74629 [==============================] - 29s 390us/step - loss: 0.8248 - categorical_accuracy: 0.6958 - val_loss: 1.0636 - val_categorical_accuracy: 0.5928\n",
            "Epoch 12/50\n",
            "74629/74629 [==============================] - 29s 389us/step - loss: 0.8136 - categorical_accuracy: 0.7009 - val_loss: 1.0585 - val_categorical_accuracy: 0.5899\n",
            "Epoch 13/50\n",
            "74629/74629 [==============================] - 29s 390us/step - loss: 0.7973 - categorical_accuracy: 0.7070 - val_loss: 1.0693 - val_categorical_accuracy: 0.5868\n",
            "Epoch 14/50\n",
            "74629/74629 [==============================] - 29s 390us/step - loss: 0.7843 - categorical_accuracy: 0.7152 - val_loss: 1.0738 - val_categorical_accuracy: 0.5976\n",
            "Epoch 15/50\n",
            "74629/74629 [==============================] - 29s 391us/step - loss: 0.7627 - categorical_accuracy: 0.7211 - val_loss: 1.0970 - val_categorical_accuracy: 0.5960\n",
            "Epoch 16/50\n",
            "74629/74629 [==============================] - 29s 391us/step - loss: 0.7396 - categorical_accuracy: 0.7312 - val_loss: 1.1781 - val_categorical_accuracy: 0.5833\n",
            "Epoch 17/50\n",
            "74629/74629 [==============================] - 29s 391us/step - loss: 0.7280 - categorical_accuracy: 0.7361 - val_loss: 1.1657 - val_categorical_accuracy: 0.5790\n",
            "Epoch 18/50\n",
            "74629/74629 [==============================] - 29s 391us/step - loss: 0.7242 - categorical_accuracy: 0.7389 - val_loss: 1.1185 - val_categorical_accuracy: 0.6056\n",
            "Epoch 19/50\n",
            "74629/74629 [==============================] - 29s 391us/step - loss: 0.6918 - categorical_accuracy: 0.7510 - val_loss: 1.1528 - val_categorical_accuracy: 0.5942\n",
            "Epoch 20/50\n",
            "74629/74629 [==============================] - 29s 390us/step - loss: 0.6850 - categorical_accuracy: 0.7537 - val_loss: 1.1749 - val_categorical_accuracy: 0.6029\n",
            "Epoch 21/50\n",
            "74629/74629 [==============================] - 29s 390us/step - loss: 0.6753 - categorical_accuracy: 0.7639 - val_loss: 1.1569 - val_categorical_accuracy: 0.5979\n",
            "Epoch 22/50\n",
            "74629/74629 [==============================] - 29s 391us/step - loss: 0.6656 - categorical_accuracy: 0.7626 - val_loss: 1.1548 - val_categorical_accuracy: 0.6041\n",
            "Epoch 23/50\n",
            "74629/74629 [==============================] - 29s 391us/step - loss: 0.6545 - categorical_accuracy: 0.7666 - val_loss: 1.1882 - val_categorical_accuracy: 0.6053\n",
            "Epoch 24/50\n",
            "74629/74629 [==============================] - 29s 391us/step - loss: 0.6348 - categorical_accuracy: 0.7739 - val_loss: 1.2620 - val_categorical_accuracy: 0.5773\n",
            "Epoch 25/50\n",
            "74629/74629 [==============================] - 29s 391us/step - loss: 0.6254 - categorical_accuracy: 0.7777 - val_loss: 1.1429 - val_categorical_accuracy: 0.6068\n",
            "Epoch 26/50\n",
            "74629/74629 [==============================] - 29s 391us/step - loss: 0.6108 - categorical_accuracy: 0.7823 - val_loss: 1.3142 - val_categorical_accuracy: 0.6045\n",
            "Epoch 27/50\n",
            "74629/74629 [==============================] - 29s 392us/step - loss: 0.5991 - categorical_accuracy: 0.7880 - val_loss: 1.2756 - val_categorical_accuracy: 0.5920\n",
            "Epoch 28/50\n",
            "74629/74629 [==============================] - 29s 391us/step - loss: 0.5925 - categorical_accuracy: 0.7895 - val_loss: 1.4366 - val_categorical_accuracy: 0.5419\n",
            "Epoch 29/50\n",
            "74629/74629 [==============================] - 29s 390us/step - loss: 0.5882 - categorical_accuracy: 0.7909 - val_loss: 1.3151 - val_categorical_accuracy: 0.6025\n",
            "Epoch 30/50\n",
            "74629/74629 [==============================] - 29s 391us/step - loss: 0.5717 - categorical_accuracy: 0.7971 - val_loss: 1.2427 - val_categorical_accuracy: 0.6010\n",
            "Epoch 31/50\n",
            "74629/74629 [==============================] - 29s 390us/step - loss: 0.5609 - categorical_accuracy: 0.8007 - val_loss: 1.3219 - val_categorical_accuracy: 0.5860\n",
            "Epoch 32/50\n",
            "74629/74629 [==============================] - 29s 390us/step - loss: 0.5478 - categorical_accuracy: 0.8065 - val_loss: 1.3368 - val_categorical_accuracy: 0.5765\n",
            "Epoch 33/50\n",
            "74629/74629 [==============================] - 29s 390us/step - loss: 0.5389 - categorical_accuracy: 0.8097 - val_loss: 1.3991 - val_categorical_accuracy: 0.5838\n",
            "Epoch 34/50\n",
            "74629/74629 [==============================] - 29s 390us/step - loss: 0.5264 - categorical_accuracy: 0.8137 - val_loss: 1.3431 - val_categorical_accuracy: 0.5955\n",
            "Epoch 35/50\n",
            "74629/74629 [==============================] - 29s 390us/step - loss: 0.5135 - categorical_accuracy: 0.8169 - val_loss: 1.3955 - val_categorical_accuracy: 0.5955\n",
            "Epoch 36/50\n",
            "74629/74629 [==============================] - 29s 391us/step - loss: 0.5299 - categorical_accuracy: 0.8163 - val_loss: 1.3293 - val_categorical_accuracy: 0.6021\n",
            "Epoch 37/50\n",
            "74629/74629 [==============================] - 29s 391us/step - loss: 0.4926 - categorical_accuracy: 0.8251 - val_loss: 1.3219 - val_categorical_accuracy: 0.5903\n",
            "Epoch 38/50\n",
            "74629/74629 [==============================] - 29s 391us/step - loss: 0.4860 - categorical_accuracy: 0.8269 - val_loss: 1.3752 - val_categorical_accuracy: 0.5944\n",
            "Epoch 39/50\n",
            "74629/74629 [==============================] - 29s 391us/step - loss: 0.4794 - categorical_accuracy: 0.8302 - val_loss: 1.3405 - val_categorical_accuracy: 0.5881\n",
            "Epoch 40/50\n",
            "74629/74629 [==============================] - 29s 390us/step - loss: 0.4692 - categorical_accuracy: 0.8326 - val_loss: 1.4404 - val_categorical_accuracy: 0.5936\n",
            "Epoch 41/50\n",
            "74629/74629 [==============================] - 29s 391us/step - loss: 0.4585 - categorical_accuracy: 0.8387 - val_loss: 1.4542 - val_categorical_accuracy: 0.6004\n",
            "Epoch 42/50\n",
            "74629/74629 [==============================] - 29s 391us/step - loss: 0.4548 - categorical_accuracy: 0.8413 - val_loss: 1.4455 - val_categorical_accuracy: 0.6010\n",
            "Epoch 43/50\n",
            "74629/74629 [==============================] - 29s 391us/step - loss: 0.4416 - categorical_accuracy: 0.8442 - val_loss: 1.4870 - val_categorical_accuracy: 0.5928\n",
            "Epoch 44/50\n",
            "74629/74629 [==============================] - 29s 391us/step - loss: 0.4288 - categorical_accuracy: 0.8496 - val_loss: 1.5577 - val_categorical_accuracy: 0.5992\n",
            "Epoch 45/50\n",
            "74629/74629 [==============================] - 29s 391us/step - loss: 0.4241 - categorical_accuracy: 0.8501 - val_loss: 1.5574 - val_categorical_accuracy: 0.5868\n",
            "Epoch 46/50\n",
            "74629/74629 [==============================] - 29s 390us/step - loss: 0.4132 - categorical_accuracy: 0.8536 - val_loss: 1.4699 - val_categorical_accuracy: 0.5954\n",
            "Epoch 47/50\n",
            "74629/74629 [==============================] - 29s 391us/step - loss: 0.4059 - categorical_accuracy: 0.8571 - val_loss: 1.5381 - val_categorical_accuracy: 0.5985\n",
            "Epoch 48/50\n",
            "74629/74629 [==============================] - 29s 391us/step - loss: 0.3964 - categorical_accuracy: 0.8618 - val_loss: 1.4721 - val_categorical_accuracy: 0.5998\n",
            "Epoch 49/50\n",
            "74629/74629 [==============================] - 29s 390us/step - loss: 0.3862 - categorical_accuracy: 0.8646 - val_loss: 1.6361 - val_categorical_accuracy: 0.5886\n",
            "Epoch 50/50\n",
            "74629/74629 [==============================] - 29s 390us/step - loss: 0.3822 - categorical_accuracy: 0.8661 - val_loss: 1.5639 - val_categorical_accuracy: 0.5940\n"
          ],
          "name": "stdout"
        }
      ]
    },
    {
      "cell_type": "code",
      "metadata": {
        "id": "dP0PvwY4v91g",
        "colab_type": "code",
        "colab": {}
      },
      "source": [
        ""
      ],
      "execution_count": 0,
      "outputs": []
    },
    {
      "cell_type": "code",
      "metadata": {
        "id": "MBp-Rfq2NfBm",
        "colab_type": "code",
        "colab": {
          "base_uri": "https://localhost:8080/",
          "height": 1009
        },
        "outputId": "4e72006a-fa75-4bbd-d80c-7c97edda4960"
      },
      "source": [
        "import matplotlib.pyplot as plt\n",
        "num_epochs = 100\n",
        "\n",
        "plt.figure(figsize=(12, 8))\n",
        "#TODO save plot on training curve\n",
        "plt.plot(history.history['categorical_accuracy'])\n",
        "plt.plot(history.history['val_categorical_accuracy'])\n",
        "plt.title('Model accuracy (multiclass with embeddings)')\n",
        "plt.ylabel('accuracy')\n",
        "plt.xlabel('epoch')\n",
        "plt.legend(['training', 'test'], loc='upper left')\n",
        "\n",
        "plt.savefig('./plot_multiclass_withembeddings_acc.pdf', bbox_inches='tight', format='pdf')\n",
        "\n",
        "plt.figure(figsize=(12, 8))\n",
        "plt.plot(history.history['loss'])\n",
        "plt.plot(history.history['val_loss'])\n",
        "plt.title('Model loss (multiclass with embeddings)')\n",
        "plt.ylabel('loss')\n",
        "plt.xlabel('epoch')\n",
        "plt.legend(['training', 'test'], loc='upper left')\n",
        "plt.savefig('./plot_multiclass_withembeddings_loss.pdf', bbox_inches='tight', format='pdf')\n"
      ],
      "execution_count": 211,
      "outputs": [
        {
          "output_type": "display_data",
          "data": {
            "image/png": "[encoded data removed]",
            "text/plain": [
              "<Figure size 864x576 with 1 Axes>"
            ]
          },
          "metadata": {
            "tags": []
          }
        },
        {
          "output_type": "display_data",
          "data": {
            "image/png": "[encoded data removed]",
            "text/plain": [
              "<Figure size 864x576 with 1 Axes>"
            ]
          },
          "metadata": {
            "tags": []
          }
        }
      ]
    },
    {
      "cell_type": "code",
      "metadata": {
        "id": "Ff_ah5zEEQou",
        "colab_type": "code",
        "colab": {}
      },
      "source": [
        "# y_scores = model.predict(x_test)\n",
        "for i in y_scores:\n",
        "  print(decode(i))"
      ],
      "execution_count": 0,
      "outputs": []
    },
    {
      "cell_type": "code",
      "metadata": {
        "id": "FE4nGp1IXydC",
        "colab_type": "code",
        "colab": {}
      },
      "source": [
        "import seaborn as sns\n",
        "from sklearn.metrics import recall_score, accuracy_score, precision_score, confusion_matrix, roc_curve, roc_auc_score\n",
        "\n",
        "y_scores = model.predict(x_test)\n",
        "\n",
        "y_true = [decode(c) for c in y_test]\n",
        "y_scores = [decode(c) for c in y_scores]\n",
        "\n",
        "#----from https://gist.github.com/shaypal5/94c53d765083101efc0240d776a23823-----\n",
        "def plot_confusion_matrix(confusion_matrix, class_names, figsize = (10,7), fontsize=14):\n",
        "\n",
        "    df_cm = pd.DataFrame(\n",
        "        confusion_matrix, index=class_names, columns=class_names, \n",
        "    )\n",
        "    fig = plt.figure(figsize=figsize)\n",
        "    try:\n",
        "        heatmap = sns.heatmap(df_cm, annot=True, linewidths=.5, fmt=\"d\", cmap=plt.cm.Blues)\n",
        "    except ValueError:\n",
        "        raise ValueError(\"Confusion matrix values must be integers.\")\n",
        "    heatmap.yaxis.set_ticklabels(heatmap.yaxis.get_ticklabels(), rotation=0, ha='right', fontsize=fontsize)\n",
        "    heatmap.xaxis.set_ticklabels(heatmap.xaxis.get_ticklabels(), rotation=0, ha='right', fontsize=fontsize)\n",
        "    plt.ylabel('True label')\n",
        "    plt.xlabel('Predicted label')\n",
        "    plt.savefig('./confmat_multiclass_withembeddings.pdf', bbox_inches='tight', format='pdf')\n",
        "    return fig\n",
        "  \n",
        "def plot_roc_curve(tpr, fpr, auc):\n",
        "  x = np.linspace(0,1,10)\n",
        "  fig = plt.figure(figsize=(10,7))\n",
        "  plt.plot(x,x,':b')\n",
        "  plt.xlabel('False positive rate')\n",
        "  plt.xlabel('True positive rate')\n",
        "  plt.plot(fpr,tpr,label=\"ROC curve, auc=\"+str(auc))\n",
        "  plt.plot()\n",
        "  plt.legend(loc=4)\n",
        "  plt.savefig('./roc_multiclass_withembeddings.pdf', bbox_inches='tight', format='pdf')\n",
        "  return fig\n",
        "\n",
        "\n",
        "def print_stats(y_true, y_scores):\n",
        "#   y_pred = y_scores.round().astype('int32').flatten()\n",
        "  accuracy = accuracy_score(y_true, y_pred)\n",
        "  recall = recall_score(y_true, y_pred)\n",
        "  precision = precision_score(y_true, y_pred)\n",
        "  f1_score = 2 * (precision * recall) / (precision + recall)\n",
        "  confusion_mat = confusion_matrix(y_true, y_pred)\n",
        "  tn, fp, fn, tp = confusion_mat.ravel()\n",
        "  auc = roc_auc_score(y_true, y_scores).astype('float32')\n",
        "  fpr, tpr, thresholds = roc_curve(y_true, y_scores, pos_label=1)\n",
        "\n",
        "  print('True positives (1 - rap):', tp)\n",
        "  print('True negatives (0 - pop):', tn)\n",
        "  print('False positives:', fp)\n",
        "  print('False negatives:', fn)\n",
        "  print('Accuracy:', accuracy)\n",
        "  print('Recall (true positive rate):', recall)\n",
        "  print('Precision:', precision)\n",
        "  print('F1_score:', f1_score)\n",
        "  print('AUC Score:', auc)\n",
        "  print('---------------------')\n",
        "  print('Confusion matrix:')\n",
        "  plot_confusion_matrix(confusion_mat, ['Pop', 'Rap'])\n",
        "  plot_roc_curve(tpr,fpr,auc)"
      ],
      "execution_count": 0,
      "outputs": []
    },
    {
      "cell_type": "code",
      "metadata": {
        "id": "tSIFjHUHYMeI",
        "colab_type": "code",
        "colab": {
          "base_uri": "https://localhost:8080/",
          "height": 290
        },
        "outputId": "5c555f16-1535-4b38-a892-73e3fe6b56e2"
      },
      "source": [
        "print_stats(y_true, y_scores)"
      ],
      "execution_count": 218,
      "outputs": [
        {
          "output_type": "error",
          "ename": "AttributeError",
          "evalue": "ignored",
          "traceback": [
            "\u001b[0;31m---------------------------------------------------------------------------\u001b[0m",
            "\u001b[0;31mAttributeError\u001b[0m                            Traceback (most recent call last)",
            "\u001b[0;32m<ipython-input-218-e527f57adbf6>\u001b[0m in \u001b[0;36m<module>\u001b[0;34m()\u001b[0m\n\u001b[0;32m----> 1\u001b[0;31m \u001b[0mprint_stats\u001b[0m\u001b[0;34m(\u001b[0m\u001b[0my_true\u001b[0m\u001b[0;34m,\u001b[0m \u001b[0my_scores\u001b[0m\u001b[0;34m)\u001b[0m\u001b[0;34m\u001b[0m\u001b[0;34m\u001b[0m\u001b[0m\n\u001b[0m",
            "\u001b[0;32m<ipython-input-217-043aa72eccc5>\u001b[0m in \u001b[0;36mprint_stats\u001b[0;34m(y_true, y_scores)\u001b[0m\n\u001b[1;32m     39\u001b[0m \u001b[0;34m\u001b[0m\u001b[0m\n\u001b[1;32m     40\u001b[0m \u001b[0;32mdef\u001b[0m \u001b[0mprint_stats\u001b[0m\u001b[0;34m(\u001b[0m\u001b[0my_true\u001b[0m\u001b[0;34m,\u001b[0m \u001b[0my_scores\u001b[0m\u001b[0;34m)\u001b[0m\u001b[0;34m:\u001b[0m\u001b[0;34m\u001b[0m\u001b[0;34m\u001b[0m\u001b[0m\n\u001b[0;32m---> 41\u001b[0;31m   \u001b[0my_pred\u001b[0m \u001b[0;34m=\u001b[0m \u001b[0my_scores\u001b[0m\u001b[0;34m.\u001b[0m\u001b[0mround\u001b[0m\u001b[0;34m(\u001b[0m\u001b[0;34m)\u001b[0m\u001b[0;34m.\u001b[0m\u001b[0mastype\u001b[0m\u001b[0;34m(\u001b[0m\u001b[0;34m'int32'\u001b[0m\u001b[0;34m)\u001b[0m\u001b[0;34m.\u001b[0m\u001b[0mflatten\u001b[0m\u001b[0;34m(\u001b[0m\u001b[0;34m)\u001b[0m\u001b[0;34m\u001b[0m\u001b[0;34m\u001b[0m\u001b[0m\n\u001b[0m\u001b[1;32m     42\u001b[0m   \u001b[0maccuracy\u001b[0m \u001b[0;34m=\u001b[0m \u001b[0maccuracy_score\u001b[0m\u001b[0;34m(\u001b[0m\u001b[0my_true\u001b[0m\u001b[0;34m,\u001b[0m \u001b[0my_pred\u001b[0m\u001b[0;34m)\u001b[0m\u001b[0;34m\u001b[0m\u001b[0;34m\u001b[0m\u001b[0m\n\u001b[1;32m     43\u001b[0m   \u001b[0mrecall\u001b[0m \u001b[0;34m=\u001b[0m \u001b[0mrecall_score\u001b[0m\u001b[0;34m(\u001b[0m\u001b[0my_true\u001b[0m\u001b[0;34m,\u001b[0m \u001b[0my_pred\u001b[0m\u001b[0;34m)\u001b[0m\u001b[0;34m\u001b[0m\u001b[0;34m\u001b[0m\u001b[0m\n",
            "\u001b[0;31mAttributeError\u001b[0m: 'list' object has no attribute 'round'"
          ]
        }
      ]
    },
    {
      "cell_type": "code",
      "metadata": {
        "id": "wlBw6tgQcQvV",
        "colab_type": "code",
        "colab": {}
      },
      "source": [
        ""
      ],
      "execution_count": 0,
      "outputs": []
    }
  ]
}